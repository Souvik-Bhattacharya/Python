{
 "cells": [
  {
   "cell_type": "markdown",
   "id": "cb2806c8",
   "metadata": {},
   "source": [
    "# Day 1: - 21/12/2022"
   ]
  },
  {
   "cell_type": "markdown",
   "id": "7f2cecb3",
   "metadata": {},
   "source": [
    "1.\tQuestion: Basic Operations"
   ]
  },
  {
   "cell_type": "code",
   "execution_count": 54,
   "id": "d2ef99f6",
   "metadata": {},
   "outputs": [
    {
     "name": "stdout",
     "output_type": "stream",
     "text": [
      "X + Y = 15 \n",
      "X - Y = 5 \n",
      "X * Y = 50 \n",
      "X / Y = 2 \n",
      "X % Y = 0 \n",
      "X ^ Y = 100000 \n",
      "Square root of X = 3.16\n",
      "Time required = 0.0\n"
     ]
    }
   ],
   "source": [
    "t1 = time.time()\n",
    "x = 10\n",
    "y = 5\n",
    "print('X + Y =',x + y,'\\nX - Y =',x - y,'\\nX * Y =',x * y,'\\nX / Y =',x // y,'\\nX % Y =',x % y,'\\nX ^ Y =',x ** y, '\\nSquare root of X = {:.2f}'.format(x ** 0.5))\n",
    "t2 = time.time()\n",
    "print('Time required =',t2-t1)"
   ]
  },
  {
   "cell_type": "markdown",
   "id": "26022cc1",
   "metadata": {},
   "source": [
    "2.\tQuestion: Fibonacci Series"
   ]
  },
  {
   "cell_type": "code",
   "execution_count": 15,
   "id": "787225a9",
   "metadata": {},
   "outputs": [
    {
     "name": "stdout",
     "output_type": "stream",
     "text": [
      "Enter the range of the fibonacci series:10\n",
      "0,1,1,2,3,5,8,13,21,34,\n",
      "Time required = 0.0006229877471923828\n"
     ]
    }
   ],
   "source": [
    "import time\n",
    "def fibonacci(n):\n",
    "    a = 0\n",
    "    b = 1\n",
    "    fibo = [0 , 1]\n",
    "    i = 0\n",
    "    for i in range(0, int(n-2)):\n",
    "        c = a + b\n",
    "        fibo.append(c)\n",
    "        a = b\n",
    "        b = c\n",
    "    return fibo\n",
    "\n",
    "n = int(input('Enter the range of the fibonacci series:'))\n",
    "t1 = time.time()\n",
    "fibo = fibonacci(n)\n",
    "for i in fibo:\n",
    "    print(i, end = ',')\n",
    "print()\n",
    "t2 = time.time()\n",
    "print('Time required =',t2-t1)"
   ]
  },
  {
   "cell_type": "markdown",
   "id": "0667f237",
   "metadata": {},
   "source": [
    "3.\tQuestion: Prime numbers in first 100000 numbers"
   ]
  },
  {
   "cell_type": "code",
   "execution_count": 5,
   "id": "cb167b9e",
   "metadata": {},
   "outputs": [
    {
     "name": "stdout",
     "output_type": "stream",
     "text": [
      "Number of prime no in that range = 9592\n",
      "Time required = 14.537940979003906\n"
     ]
    }
   ],
   "source": [
    "import time\n",
    "def isPrime(num):\n",
    "    count = 0\n",
    "    for i in range(2, ((num//2) + 1)):\n",
    "        if(num % i == 0):\n",
    "            count += 1\n",
    "            break\n",
    "    if(count != 0):\n",
    "        return False\n",
    "    else:\n",
    "        return True\n",
    "\n",
    "t1 = time.time()\n",
    "primeNum = list(filter(isPrime, range(2, 100001)))\n",
    "print('Number of prime no in that range =',len(primeNum))\n",
    "t2 = time.time()\n",
    "print('Time required =',t2-t1)"
   ]
  },
  {
   "cell_type": "markdown",
   "id": "fd12c82d",
   "metadata": {},
   "source": [
    "4.\tQuestion: Checking if a number is a Kaprekar number or not"
   ]
  },
  {
   "cell_type": "code",
   "execution_count": 53,
   "id": "d43db6d3",
   "metadata": {},
   "outputs": [
    {
     "name": "stdout",
     "output_type": "stream",
     "text": [
      "Give the number:9\n",
      "9 is a Kaprekar no\n",
      "\n",
      "Time required : 0.0\n"
     ]
    }
   ],
   "source": [
    "# importing the time function\n",
    "import time\n",
    "# defining function isKaprekar\n",
    "def isKaprekar(number):\n",
    "    # checking if the number is 1\n",
    "    if number == 1:\n",
    "        # returning true if the number is 1\n",
    "        return True\n",
    "    # making square of the given number\n",
    "    sqr = number**2\n",
    "    # making a copy of the squared number\n",
    "    copy = sqr\n",
    "    # initializing the count variable by 1\n",
    "    count = 0\n",
    "    # running a loop until the copy is having 0 for getting the length of the number\n",
    "    while copy > 0:\n",
    "        # truncating the LSB of the number\n",
    "        copy = copy // 10\n",
    "        # incrementing the count variable\n",
    "        count += 1\n",
    "    # here the point of partition in the squared value is traversing from left to right and checking the equality of the sum of both sides of that partition\n",
    "    for i in range(1, count):\n",
    "        # checking if the number is 10 or its multiple\n",
    "        if number == 10 ** i:\n",
    "            break\n",
    "        # checking if the sum of the right section and the left section is equal to the number \n",
    "        if number == (sqr // 10**i + sqr % 10**i):\n",
    "            return True\n",
    "    # if equality is not found returning false\n",
    "    return False\n",
    "\n",
    "\n",
    "# taking the number\n",
    "number = int(input('Give the number:'))\n",
    "t1 = time.time()\n",
    "# checking if the number is kaprekar or not\n",
    "if isKaprekar(number):\n",
    "        print(number,'is a Kaprekar no')\n",
    "else:\n",
    "    print(number,'is not a Kaprekar no')\n",
    "# printing the execution time by using timeit function\n",
    "t2 = time.time()\n",
    "print('\\nTime required :',t2-t1)"
   ]
  },
  {
   "cell_type": "markdown",
   "id": "0f349cf4",
   "metadata": {},
   "source": [
    "# Day 2: - 23/12/2022"
   ]
  },
  {
   "cell_type": "markdown",
   "id": "2292a9b5",
   "metadata": {},
   "source": [
    "1.\tQuestion: Alphabetical reverse order sorting (removing duplicates)"
   ]
  },
  {
   "cell_type": "code",
   "execution_count": 12,
   "id": "24467f32",
   "metadata": {},
   "outputs": [
    {
     "name": "stdout",
     "output_type": "stream",
     "text": [
      "['z', 'x', 'e', 'c', 'b', 'a']\n",
      "Time required : 0.0010004043579101562\n"
     ]
    }
   ],
   "source": [
    "import time\n",
    "t1 = time.time()\n",
    "list1 = ['a','z','b','c','a','z','x','e']\n",
    "list2 = list(set(list1))\n",
    "list2.sort(reverse = True)\n",
    "print(list2)\n",
    "t2 = time.time()\n",
    "print('Time required :',t2-t1)"
   ]
  },
  {
   "cell_type": "markdown",
   "id": "be6bd3cc",
   "metadata": {},
   "source": [
    "2.\tSquare all values of a list using lambda function"
   ]
  },
  {
   "cell_type": "code",
   "execution_count": 13,
   "id": "80f37292",
   "metadata": {},
   "outputs": [
    {
     "name": "stdout",
     "output_type": "stream",
     "text": [
      "[1, 4, 9, 16, 25, 36, 49]\n",
      "Time required : 0.0010006427764892578\n"
     ]
    }
   ],
   "source": [
    "import time\n",
    "t1 = time.time()\n",
    "list1 = [1,2,3,4,5,6,7]\n",
    "newList = list(map(lambda i: i**2,list1))\n",
    "print(newList)\n",
    "t2 = time.time()\n",
    "print('Time required :',t2-t1)"
   ]
  },
  {
   "cell_type": "markdown",
   "id": "834872af",
   "metadata": {},
   "source": [
    "3.\tDatabase for my semester marks:"
   ]
  },
  {
   "cell_type": "code",
   "execution_count": 18,
   "id": "4bc89033",
   "metadata": {},
   "outputs": [
    {
     "name": "stdout",
     "output_type": "stream",
     "text": [
      "95 is the highest no obtained in C in sem 2 among both the sems\n",
      "70 is the lowest no obtained in math in sem 1 among both the sems\n",
      "90 is the highest no obtained in physics in sem 1\n",
      "70 is the lowest no obtained in math in sem 1\n",
      "95 is the highest no obtained in C in sem 2\n",
      "75 is the lowest no obtained in chemistry in sem 2\n",
      "Time required : 0.0\n"
     ]
    }
   ],
   "source": [
    "import time\n",
    "def getHighest(result):\n",
    "    max = -1\n",
    "    maxsub = ''\n",
    "    maxsem = ''\n",
    "    for sem, details in result.items():\n",
    "        for subject, marks in details.items():\n",
    "            if marks > max:\n",
    "                max = marks\n",
    "                maxsub = subject\n",
    "                maxsem = sem\n",
    "    print(f'{max} is the highest no obtained in {maxsub} in sem {maxsem} among both the sems')\n",
    "def getLowest(result):\n",
    "    min = 100000\n",
    "    minsub = ''\n",
    "    minsem = ''\n",
    "    for sem, details in result.items():\n",
    "        for subject, marks in details.items():\n",
    "            if marks < min:\n",
    "                min = marks\n",
    "                minsub = subject\n",
    "                minsem = sem\n",
    "    print(f'{min} is the lowest no obtained in {minsub} in sem {minsem} among both the sems')\n",
    "def getHighestSem(result,i):\n",
    "    details = result[i]\n",
    "    max = -1\n",
    "    maxsub = ''\n",
    "    for subject, marks in details.items():\n",
    "        if marks > max:\n",
    "            max = marks\n",
    "            maxsub = subject\n",
    "    print(f'{max} is the highest no obtained in {maxsub} in sem {i}')\n",
    "def getLowestSem(result,i):\n",
    "    details = result[i]\n",
    "    min = 100000\n",
    "    minsub = ''\n",
    "    for subject, marks in details.items():\n",
    "        if marks < min:\n",
    "            min = marks\n",
    "            minsub = subject\n",
    "    print(f'{min} is the lowest no obtained in {minsub} in sem {i}')\n",
    "t1 = time.time()\n",
    "result = {1:{'math':70,'physics':90,'EE':80},2:{'C':95,'chemistry':75,'math':85}}\n",
    "getHighest(result)\n",
    "getLowest(result)\n",
    "for i in range(1,3):\n",
    "    getHighestSem(result,i)\n",
    "    getLowestSem(result,i)\n",
    "t2 = time.time()\n",
    "print('Time required :',t2-t1)"
   ]
  },
  {
   "cell_type": "markdown",
   "id": "f25a620b",
   "metadata": {},
   "source": [
    "4.\tQuestion: No of vowels & consonants in a string"
   ]
  },
  {
   "cell_type": "code",
   "execution_count": 7,
   "id": "68f47777",
   "metadata": {},
   "outputs": [
    {
     "name": "stdout",
     "output_type": "stream",
     "text": [
      "No of vowels = 1 and no of consonants = 5\n",
      "Time required = 0.0\n"
     ]
    }
   ],
   "source": [
    "import time\n",
    "t1 = time.time()\n",
    "string = 'python'\n",
    "vowels = list(filter(lambda i : i in 'aeiouAEIOU',string))\n",
    "consonants = list(filter(lambda i : i not in 'aeiouAEIOU',string))\n",
    "print(f\"No of vowels = {len(vowels)} and no of consonants = {len(consonants)}\")\n",
    "t2 = time.time()\n",
    "print(f\"Time required = {t2-t1}\")"
   ]
  },
  {
   "cell_type": "markdown",
   "id": "c88eba13",
   "metadata": {},
   "source": [
    "5.\tQuestion: Addition of double quotes in all strings of an array"
   ]
  },
  {
   "cell_type": "code",
   "execution_count": 9,
   "id": "dbafbaff",
   "metadata": {},
   "outputs": [
    {
     "name": "stdout",
     "output_type": "stream",
     "text": [
      "['\"India\"', '\"Russia\"', '\"Japan\"', '\"USA\"', '\"UK\"']\n",
      "Time required = 0.0006666183471679688\n"
     ]
    }
   ],
   "source": [
    "import time\n",
    "t1 = time.time()\n",
    "list1 = ['India','Russia','Japan','USA','UK']\n",
    "list2 = list(map(lambda i: f'\"{i}\"',list1))\n",
    "print(list2)\n",
    "t2 = time.time()\n",
    "print(f\"Time required = {t2-t1}\")"
   ]
  },
  {
   "cell_type": "markdown",
   "id": "65bc6a97",
   "metadata": {},
   "source": [
    "# Day 3: - 3/1/2023"
   ]
  },
  {
   "cell_type": "markdown",
   "id": "2d61ba85",
   "metadata": {},
   "source": [
    "1.\tQuestion: Print the following pattern:\n",
    "                                                      *\n",
    "                                                     ***\n",
    "                                                    *****\n",
    "                                                     ***\n",
    "                                                      *"
   ]
  },
  {
   "cell_type": "code",
   "execution_count": 22,
   "id": "4607ca1c",
   "metadata": {},
   "outputs": [
    {
     "name": "stdout",
     "output_type": "stream",
     "text": [
      "Give the no of rows to display:8\n",
      "  *\n",
      " ***\n",
      "*****\n",
      " ***\n",
      "  *\n",
      " ***\n",
      "*****\n",
      " ***\n",
      "Time required = 0.0009889602661132812\n"
     ]
    }
   ],
   "source": [
    "import time\n",
    "rowNo = int(input('Give the no of rows to display:'))\n",
    "t1 = time.time()\n",
    "for i in range(rowNo):\n",
    "    i = i%4\n",
    "    if i < 3:\n",
    "        for j in range(2-i):\n",
    "            print(' ',end = '')\n",
    "        for k in range(2*i+1):\n",
    "            print('*',end = '')\n",
    "        print()\n",
    "    else:\n",
    "        print(' ***')\n",
    "t2 = time.time()\n",
    "print(f\"Time required = {t2-t1}\")"
   ]
  },
  {
   "cell_type": "markdown",
   "id": "d4c15e49",
   "metadata": {},
   "source": [
    "2.\tQuestion: Calculate factorial with custom exceptions"
   ]
  },
  {
   "cell_type": "code",
   "execution_count": 50,
   "id": "3fda07c0",
   "metadata": {},
   "outputs": [
    {
     "name": "stdout",
     "output_type": "stream",
     "text": [
      "Give the number:hello\n",
      "Only integers are allowed...\n",
      "Time required = 0.0\n"
     ]
    }
   ],
   "source": [
    "import time\n",
    "def factorial(n):\n",
    "    if n == 0:\n",
    "        return 1\n",
    "    else:\n",
    "        return n*factorial(n-1)\n",
    "num = input('Give the number:')\n",
    "t1 = time.time()\n",
    "try:\n",
    "    num = int(num)\n",
    "    try:\n",
    "        if num < 0:\n",
    "            raise Exception('Only whole numbers are allowed')\n",
    "        fact = factorial(num)\n",
    "        print(f\"The factorial of the number {num} is {fact}\")\n",
    "    except Exception as e:\n",
    "        print(e)\n",
    "except Exception:\n",
    "    print('Only integers are allowed...')\n",
    "t2 = time.time()\n",
    "print(f\"Time required = {t2-t1}\")"
   ]
  },
  {
   "cell_type": "markdown",
   "id": "107331f9",
   "metadata": {},
   "source": [
    "# Day 4: - 4/1/2023 "
   ]
  },
  {
   "cell_type": "markdown",
   "id": "b5173b2a",
   "metadata": {},
   "source": [
    "1.\tQuestion: Create a cheat sheet that gives details of any given class or methods"
   ]
  },
  {
   "cell_type": "code",
   "execution_count": 52,
   "id": "a865ec6c",
   "metadata": {},
   "outputs": [
    {
     "name": "stdout",
     "output_type": "stream",
     "text": [
      "Give the class name:math\n",
      "Give the method name:cos\n",
      "Help on built-in function acos in module math:\n",
      "\n",
      "acos(x, /)\n",
      "    Return the arc cosine (measured in radians) of x.\n",
      "    \n",
      "    The result is between 0 and pi.\n",
      "\n",
      "Help on built-in function acosh in module math:\n",
      "\n",
      "acosh(x, /)\n",
      "    Return the inverse hyperbolic cosine of x.\n",
      "\n",
      "Help on built-in function cos in module math:\n",
      "\n",
      "cos(x, /)\n",
      "    Return the cosine of x (measured in radians).\n",
      "\n",
      "Help on built-in function cosh in module math:\n",
      "\n",
      "cosh(x, /)\n",
      "    Return the hyperbolic cosine of x.\n",
      "\n",
      "Time required = 0.005499839782714844\n"
     ]
    }
   ],
   "source": [
    "import time\n",
    "import math\n",
    "def getHelp(className,methodName):\n",
    "    if className == 'none':\n",
    "        help(eval(methodName))\n",
    "    elif methodName == 'none':\n",
    "        print(dir(eval(className)))\n",
    "    else:\n",
    "        for i in dir(eval(className)):\n",
    "            if methodName in i:\n",
    "                query = className+'.'+i\n",
    "                help(eval(query))\n",
    "className = input('Give the class name:')\n",
    "methodName = input('Give the method name:')\n",
    "t1 = time.time()\n",
    "getHelp(className,methodName)\n",
    "t2 = time.time()\n",
    "print(f\"Time required = {t2-t1}\")"
   ]
  }
 ],
 "metadata": {
  "kernelspec": {
   "display_name": "Python 3",
   "language": "python",
   "name": "python3"
  },
  "language_info": {
   "codemirror_mode": {
    "name": "ipython",
    "version": 3
   },
   "file_extension": ".py",
   "mimetype": "text/x-python",
   "name": "python",
   "nbconvert_exporter": "python",
   "pygments_lexer": "ipython3"
  },
  "vscode": {
   "interpreter": {
    "hash": "369f2c481f4da34e4445cda3fffd2e751bd1c4d706f27375911949ba6bb62e1c"
   }
  }
 },
 "nbformat": 4,
 "nbformat_minor": 5
}
